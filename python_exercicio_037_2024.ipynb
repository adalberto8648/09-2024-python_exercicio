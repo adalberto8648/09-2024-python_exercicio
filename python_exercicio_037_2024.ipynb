{
  "nbformat": 4,
  "nbformat_minor": 0,
  "metadata": {
    "colab": {
      "provenance": [],
      "authorship_tag": "ABX9TyOdqxPYGsnAFpAEcbAbwTOY",
      "include_colab_link": true
    },
    "kernelspec": {
      "name": "python3",
      "display_name": "Python 3"
    },
    "language_info": {
      "name": "python"
    }
  },
  "cells": [
    {
      "cell_type": "markdown",
      "metadata": {
        "id": "view-in-github",
        "colab_type": "text"
      },
      "source": [
        "<a href=\"https://colab.research.google.com/github/adalberto8648/09-2024-python_exercicio/blob/main/python_exercicio_037_2024.ipynb\" target=\"_parent\"><img src=\"https://colab.research.google.com/assets/colab-badge.svg\" alt=\"Open In Colab\"/></a>"
      ]
    },
    {
      "cell_type": "code",
      "execution_count": null,
      "metadata": {
        "id": "S33BMHtdVnfS"
      },
      "outputs": [],
      "source": [
        "'''Exercício 23 / 37: 09/2024\n",
        "\n",
        "Solicite ao usuário que digite 6 números inteiros e os armazene em uma lista.\n",
        "Verifique se algum dos números é divisível por 4.\n",
        "Se houver números divisíveis por 4, pergunte ao usuário se ele deseja substituir\n",
        "esses números pelo número 100.\n",
        "Se ele escolher \"sim\", faça a substituição e mostre a nova lista. Caso contrário,\n",
        "apenas exiba a lista original formatada.\n",
        "Se não houver números divisíveis por 4, calcule e mostre a média dos números da lista.\n",
        "Lembre-se de formatar a lista com duas casas decimais e tratar os possíveis erros\n",
        "de entrada de dados.\n",
        "Alterar o código feito para incluir o loop while'''\n",
        "\n",
        "lista_vazia = []\n",
        "print(\"Você pode digitar até 6 números inteiros. Para encerrar, digite um número negativo.\")\n",
        "while True:\n",
        "  try:\n",
        "    for n in range(1, 7):\n",
        "      numeros = int(input(f'Digite o {n}° número inteiro: '))\n",
        "      if numeros < 0:\n",
        "        print('Número negativo digitado, encerrando entrada de números')\n",
        "        break\n",
        "      lista_vazia.append(numeros)\n",
        "    break\n",
        "  except ValueError:\n",
        "    print('Digite apenas números inteiros')\n",
        "\n",
        "if any(numero % 4 == 0 for numero in lista_vazia):\n",
        "  divisivel = [numero for numero in lista_vazia if numero % 4 == 0]\n",
        "  print(f'O(s) número(s) divisivel(is) por 4 é(são): {divisivel}')\n",
        "\n",
        "  while True:\n",
        "    pergunta = input('Deseja substituir esses números pelo número 100? (Sim) ou (Não): ').lower()\n",
        "    if pergunta in ['sim', 'não']:\n",
        "      break\n",
        "    else:\n",
        "      print('Precisa escolher entre as duas opções: (Sim) ou (Não)')\n",
        "\n",
        "  if pergunta == 'sim':\n",
        "    for p, numero in enumerate(lista_vazia):\n",
        "      if numero % 4 == 0:\n",
        "        lista_vazia[p] = 100\n",
        "\n",
        "    formatacao = [f'{numero:.2f}' for numero in lista_vazia]\n",
        "    print(f'Sua nova lista após substituição é: {formatacao}')\n",
        "\n",
        "  else:\n",
        "    formatacao = [f'{numero:.2f}' for numero in lista_vazia]\n",
        "    print(f'Sua lista após digitação é: {formatacao}')\n",
        "\n",
        "else:\n",
        "  media = sum(lista_vazia) / len(lista_vazia)\n",
        "  print(f'A média formatada é: {media:.2f}')"
      ]
    }
  ]
}