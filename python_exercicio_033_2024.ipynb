{
  "nbformat": 4,
  "nbformat_minor": 0,
  "metadata": {
    "colab": {
      "provenance": [],
      "authorship_tag": "ABX9TyMMCsGrXSjUkxMONHNyrUdq",
      "include_colab_link": true
    },
    "kernelspec": {
      "name": "python3",
      "display_name": "Python 3"
    },
    "language_info": {
      "name": "python"
    }
  },
  "cells": [
    {
      "cell_type": "markdown",
      "metadata": {
        "id": "view-in-github",
        "colab_type": "text"
      },
      "source": [
        "<a href=\"https://colab.research.google.com/github/adalberto8648/09-2024-python_exercicio/blob/main/python_exercicio_033_2024.ipynb\" target=\"_parent\"><img src=\"https://colab.research.google.com/assets/colab-badge.svg\" alt=\"Open In Colab\"/></a>"
      ]
    },
    {
      "cell_type": "code",
      "execution_count": null,
      "metadata": {
        "id": "ZU1xzTh_-ADE"
      },
      "outputs": [],
      "source": [
        "'''Exercício 20 / 33: 09/2024\n",
        "\n",
        "Peça ao usuário para digitar 7 números inteiros e armazene-os em uma lista.\n",
        "Verifique se todos os números são positivos e exiba uma mensagem correspondente.\n",
        "Pergunte ao usuário se ele deseja multiplicar os números por um valor ou dividi-los por outro valor.\n",
        "Se a resposta for multiplicar, solicite um número e multiplique todos os valores da lista por esse número.\n",
        "Se a resposta for dividir, solicite um número e divida todos os valores da lista por esse número.\n",
        "Exiba a nova lista formatada com duas casas decimais.\n",
        "Por fim, calcule e exiba a média dos valores da nova lista.\n",
        "Alterar o código feito para incluir o loop while'''\n",
        "\n",
        "lista_vazia = []\n",
        "print(\"Você pode digitar até 7 números inteiros. Para encerrar, digite um número negativo.\")\n",
        "while True:\n",
        "  try:\n",
        "    for n in range(1, 8):\n",
        "      numeros = int(input(f'Digite o {n}° número inteiro: '))\n",
        "      if numeros < 0:\n",
        "        print('Número negativo digitado. Encerrando a entrada de números.')\n",
        "        break\n",
        "      lista_vazia.append(numeros)\n",
        "    break\n",
        "  except ValueError:\n",
        "    print('Digite apenas números inteiros')\n",
        "\n",
        "if all(numero > 0 for numero in lista_vazia):\n",
        "  print('Todos os números são positivos')\n",
        "\n",
        "while True:\n",
        "  pergunta = input('Deseja multiplicar os números ou dividi-los por um valor? (Multiplicar) ou (Dividir): ').lower()\n",
        "  if pergunta in ['multiplicar', 'dividir']:\n",
        "    break\n",
        "  else:\n",
        "    print('Escolha uma das opções: (Multiplicar) ou (Dividir)')\n",
        "\n",
        "if pergunta == 'multiplicar':\n",
        "  while True:\n",
        "    try:\n",
        "      multiplicador = int(input('Digite o número para multiplicar: '))\n",
        "      if multiplicador > 0:\n",
        "        break\n",
        "      else:\n",
        "        print('Multiplicação inválida. O multiplicador deve ser maior que 0.')\n",
        "    except ValueError:\n",
        "      print('Multiplicação inválida. O multiplicador deve ser maior que 0.')\n",
        "\n",
        "  nova_lista = [numero * multiplicador for numero in lista_vazia]\n",
        "  formatar = [f'{numero:.2f}' for numero in nova_lista]\n",
        "  print(f'Sua nova lista após a multiplicação é: {formatar}')\n",
        "\n",
        "  media = sum(nova_lista) / len(nova_lista)\n",
        "  print(f'A média após a multiplicação é: {media:.2f}')\n",
        "\n",
        "else:\n",
        "  while True:\n",
        "    try:\n",
        "      divisor = int(input('Digite o número par dividir: '))\n",
        "      if divisor > 0:\n",
        "        break\n",
        "      else:\n",
        "        print('Divisão inválida. O divisor deve ser maior que 0.')\n",
        "    except ValueError:\n",
        "      print('Divisão inválida. O divisor deve ser maior que 0.')\n",
        "\n",
        "  nova_lista = [numero / divisor for numero in lista_vazia]\n",
        "  formatar = [f'{numero:.2f}' for numero in nova_lista]\n",
        "  print(f'Sua nova lista após dividir é: {formatar}')\n",
        "\n",
        "  media = sum(nova_lista) / len(nova_lista)\n",
        "  print(f'A media após a divisão é: {media:.2f}')"
      ]
    }
  ]
}