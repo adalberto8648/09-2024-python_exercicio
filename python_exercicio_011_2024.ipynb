{
  "nbformat": 4,
  "nbformat_minor": 0,
  "metadata": {
    "colab": {
      "provenance": [],
      "authorship_tag": "ABX9TyNokyz1s7josx2deJ2zkKDo",
      "include_colab_link": true
    },
    "kernelspec": {
      "name": "python3",
      "display_name": "Python 3"
    },
    "language_info": {
      "name": "python"
    }
  },
  "cells": [
    {
      "cell_type": "markdown",
      "metadata": {
        "id": "view-in-github",
        "colab_type": "text"
      },
      "source": [
        "<a href=\"https://colab.research.google.com/github/adalberto8648/exerciciopython2024/blob/main/python_exercicio_011_2024.ipynb\" target=\"_parent\"><img src=\"https://colab.research.google.com/assets/colab-badge.svg\" alt=\"Open In Colab\"/></a>"
      ]
    },
    {
      "cell_type": "code",
      "execution_count": null,
      "metadata": {
        "id": "Q5NwxDbDJqW5"
      },
      "outputs": [],
      "source": [
        "'''Exercício 11: 09/2024\n",
        "\n",
        "Peça ao usuário para inserir o valor de uma compra.\n",
        "Se o valor for menor que 100, aplique um desconto de 5%.\n",
        "Se o valor for entre 100 e 500, aplique um desconto de 10%.\n",
        "Se o valor for maior que 500, aplique um desconto de 15%.\n",
        "Exiba o valor final da compra com o desconto aplicado.\n",
        "Tratamento de erro: Caso o usuário insira um valor inválido (não numérico),\n",
        "exiba uma mensagem apropriada.\n",
        "\n",
        "Desafio extra:\n",
        "Se o valor inserido for negativo, exiba uma mensagem dizendo que o valor é inválido.'''\n",
        "\n",
        "try:\n",
        "  compra = float(input('Insira aqui o valor da sua compra: R$'))\n",
        "\n",
        "  if compra < 0:\n",
        "    print('Insira um valor positivo')\n",
        "\n",
        "  else:\n",
        "    if compra < 100:\n",
        "      desconto05 = (compra * 5) / 100\n",
        "      valor_final = compra - desconto05\n",
        "      print(f'Desconto de 5%: R${desconto05:.2f}')\n",
        "    elif 100 <= compra <= 500:\n",
        "      desconto10 = (compra * 10) / 100\n",
        "      valor_final = compra - desconto10\n",
        "      print(f'Deconto de 10%: R${desconto10:.2f}')\n",
        "    else:\n",
        "      desconto15 = (compra * 15) / 100\n",
        "      valor_final = compra - desconto15\n",
        "      print(f'Desconto de 15%: R${desconto15}')\n",
        "\n",
        "    print(f'Valor final da compra: R${valor_final:.2f}')\n",
        "\n",
        "except ValueError:\n",
        "  print('Insira um valor válido')"
      ]
    }
  ]
}