{
  "nbformat": 4,
  "nbformat_minor": 0,
  "metadata": {
    "colab": {
      "provenance": [],
      "authorship_tag": "ABX9TyM4QZHaQUcyIrqU6/X/KTGk",
      "include_colab_link": true
    },
    "kernelspec": {
      "name": "python3",
      "display_name": "Python 3"
    },
    "language_info": {
      "name": "python"
    }
  },
  "cells": [
    {
      "cell_type": "markdown",
      "metadata": {
        "id": "view-in-github",
        "colab_type": "text"
      },
      "source": [
        "<a href=\"https://colab.research.google.com/github/adalberto8648/exerciciopython2024/blob/main/python_exercicio_002_2024.ipynb\" target=\"_parent\"><img src=\"https://colab.research.google.com/assets/colab-badge.svg\" alt=\"Open In Colab\"/></a>"
      ]
    },
    {
      "cell_type": "code",
      "execution_count": null,
      "metadata": {
        "id": "f1-347r2J7DX"
      },
      "outputs": [],
      "source": [
        "'''Exercício 002: 09/2024\n",
        "\n",
        "Peça ao usuário para inserir um número e armazene esse valor em uma variável chamada numero1.\n",
        "Peça ao usuário para inserir outro número e armazene esse valor em uma variável chamada numero2.\n",
        "Crie uma variável chamada soma para armazenar a soma de numero1 e numero2.\n",
        "Crie uma variável chamada media para armazenar a média dos dois números.\n",
        "Imprima os valores da soma e da media.\n",
        "\n",
        "Desafio Extra:\n",
        "\n",
        "Peça ao usuário para inserir um terceiro número e inclua-o nos cálculos da soma e da média.\n",
        "'''\n",
        "\n",
        "numero1 = int(input('Insira o primeiro número: '))\n",
        "numero2 = int(input('Insira o segundo número: '))\n",
        "soma = numero1 + numero2\n",
        "media = (numero1 + numero2) / 2\n",
        "\n",
        "print(f'A soma é: {soma}')\n",
        "print(f'A média é: {media:.2f}')\n",
        "\n",
        "numero3 = int(input('Insira mais um número: '))\n",
        "nova_soma = soma + numero3\n",
        "nova_media = nova_soma / 3\n",
        "\n",
        "print(f'A nova soma é: {nova_soma}')\n",
        "print(f'A nova média é: {nova_media:.2f}')"
      ]
    }
  ]
}