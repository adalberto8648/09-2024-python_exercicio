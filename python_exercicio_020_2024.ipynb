{
  "nbformat": 4,
  "nbformat_minor": 0,
  "metadata": {
    "colab": {
      "provenance": [],
      "authorship_tag": "ABX9TyNlzU+0VVIPDLAbDKi9FeKr",
      "include_colab_link": true
    },
    "kernelspec": {
      "name": "python3",
      "display_name": "Python 3"
    },
    "language_info": {
      "name": "python"
    }
  },
  "cells": [
    {
      "cell_type": "markdown",
      "metadata": {
        "id": "view-in-github",
        "colab_type": "text"
      },
      "source": [
        "<a href=\"https://colab.research.google.com/github/adalberto8648/exerciciopython2024/blob/main/python_exercicio_020_2024.ipynb\" target=\"_parent\"><img src=\"https://colab.research.google.com/assets/colab-badge.svg\" alt=\"Open In Colab\"/></a>"
      ]
    },
    {
      "cell_type": "code",
      "execution_count": null,
      "metadata": {
        "id": "8zSPhelJbuL2"
      },
      "outputs": [],
      "source": [
        "'''Exercício 20: 09/2024\n",
        "\n",
        "Peça ao usuário para digitar 7 números inteiros e armazene-os em uma lista.\n",
        "Verifique se todos os números são positivos e exiba uma mensagem correspondente.\n",
        "Pergunte ao usuário se ele deseja multiplicar os números por um valor ou dividi-los por outro valor.\n",
        "Se a resposta for multiplicar, solicite um número e multiplique todos os valores da lista por esse número.\n",
        "Se a resposta for dividir, solicite um número e divida todos os valores da lista por esse número.\n",
        "Exiba a nova lista formatada com duas casas decimais.\n",
        "Por fim, calcule e exiba a média dos valores da nova lista.'''\n",
        "\n",
        "try:\n",
        "  lista_vazia = []\n",
        "  for n in range(1, 8):\n",
        "    numeros = int(input(f'Digite o {n}° número inteiro:'))\n",
        "    lista_vazia.append(numeros)\n",
        "\n",
        "  if all(numero > 0 for numero in lista_vazia):\n",
        "    print('Todos os números são positivos')\n",
        "  else:\n",
        "    menores = [numero for numero in lista_vazia if numero <= 0]\n",
        "    print(f'Numero(s) negativo(s) ou 0 encontrado(s): {menores}')\n",
        "\n",
        "  pergunta = input('Deseja multiplicar os números ou dividi-los por um valor? (Multiplicar) ou (Dividir): ').lower()\n",
        "\n",
        "  if pergunta not in ['multiplicar', 'dividir']:\n",
        "    print('Escolha uma das opções: (Multiplicar) ou (Dividir)')\n",
        "\n",
        "  else:\n",
        "    if pergunta == 'multiplicar':\n",
        "      multiplicador = int(input('Digite o número para multiplicar: '))\n",
        "\n",
        "      nova_lista = [numero * multiplicador for numero in lista_vazia]\n",
        "      formatar = [f'{numero:.2f}' for numero in nova_lista]\n",
        "      print(f'Sua nova lista após a multiplicação é: {formatar}')\n",
        "\n",
        "      media = sum(nova_lista) / len(nova_lista)\n",
        "      print(f'A média após a multiplicação é: {media:.2f}')\n",
        "\n",
        "    else:\n",
        "      divisor = int(input('Digite o número par dividir: '))\n",
        "\n",
        "      if divisor > 0:\n",
        "        nova_lista = [numero / divisor for numero in lista_vazia]\n",
        "        formatar = [f'{numero:.2f}' for numero in nova_lista]\n",
        "        print(f'Sua nova lista após dividir é: {formatar}')\n",
        "\n",
        "        media = sum(nova_lista) / len(nova_lista)\n",
        "        print(f'A media após a divisão é: {media:.2f}')\n",
        "\n",
        "      else:\n",
        "        print('Divisão inválida. O divisor deve ser maior que 0.')\n",
        "\n",
        "except ValueError:\n",
        "  print('Digite apenas números inteiros')"
      ]
    }
  ]
}