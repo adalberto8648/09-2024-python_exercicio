{
  "nbformat": 4,
  "nbformat_minor": 0,
  "metadata": {
    "colab": {
      "provenance": [],
      "authorship_tag": "ABX9TyO3o0cwt0R3wN8Y9//aPG7O",
      "include_colab_link": true
    },
    "kernelspec": {
      "name": "python3",
      "display_name": "Python 3"
    },
    "language_info": {
      "name": "python"
    }
  },
  "cells": [
    {
      "cell_type": "markdown",
      "metadata": {
        "id": "view-in-github",
        "colab_type": "text"
      },
      "source": [
        "<a href=\"https://colab.research.google.com/github/adalberto8648/exerciciopython2024/blob/main/python_exercicio_014_2024.ipynb\" target=\"_parent\"><img src=\"https://colab.research.google.com/assets/colab-badge.svg\" alt=\"Open In Colab\"/></a>"
      ]
    },
    {
      "cell_type": "code",
      "execution_count": null,
      "metadata": {
        "id": "lPunWtvKKaBC"
      },
      "outputs": [],
      "source": [
        "'''Exercício 14: 09/2024\n",
        "\n",
        "Solicite ao usuário que insira um número inteiro.\n",
        "Verifique se o número é positivo, negativo ou zero.\n",
        "Verifique se o número é par ou ímpar.\n",
        "Exiba uma mensagem que informe tanto a positividade (positivo/negativo/zero)\n",
        "quanto a paridade (par/ímpar) do número.\n",
        "Se o usuário digitar algo que não seja um número inteiro, exiba uma mensagem\n",
        "de erro usando try e except.'''\n",
        "\n",
        "try:\n",
        "  numero = int(input('Digite um número inteiro: '))\n",
        "\n",
        "  if numero == 0:\n",
        "    print('O número escolhido é zero')\n",
        "\n",
        "  elif numero < 0:\n",
        "    if numero % 2 == 0:\n",
        "      print('O número escolhido é negativo, e par')\n",
        "    else:\n",
        "      print('O Número escolhido é negativo e impar')\n",
        "\n",
        "  else:\n",
        "    if numero % 2 == 0:\n",
        "      print('O número escolhido é positivo, e par')\n",
        "    else:\n",
        "      print('O Número escolhido é positivo e impar')\n",
        "\n",
        "except ValueError:\n",
        "  print('Você não digitou um número inteiro')"
      ]
    }
  ]
}