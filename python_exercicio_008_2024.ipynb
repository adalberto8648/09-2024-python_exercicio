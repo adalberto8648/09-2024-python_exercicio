{
  "nbformat": 4,
  "nbformat_minor": 0,
  "metadata": {
    "colab": {
      "provenance": [],
      "authorship_tag": "ABX9TyM1B085P7Ezz7IGGHEDw5l1",
      "include_colab_link": true
    },
    "kernelspec": {
      "name": "python3",
      "display_name": "Python 3"
    },
    "language_info": {
      "name": "python"
    }
  },
  "cells": [
    {
      "cell_type": "markdown",
      "metadata": {
        "id": "view-in-github",
        "colab_type": "text"
      },
      "source": [
        "<a href=\"https://colab.research.google.com/github/adalberto8648/exerciciopython2024/blob/main/python_exercicio_008_2024.ipynb\" target=\"_parent\"><img src=\"https://colab.research.google.com/assets/colab-badge.svg\" alt=\"Open In Colab\"/></a>"
      ]
    },
    {
      "cell_type": "code",
      "execution_count": null,
      "metadata": {
        "id": "avorvnBgmysS"
      },
      "outputs": [],
      "source": [
        "'''Exercício 8: 09/2024\n",
        "\n",
        "Peça ao usuário para inserir uma nota (valor entre 0 e 10).\n",
        "Com base na nota inserida, exiba a classificação correspondente:\n",
        "Se a nota for menor que 5, exiba \"Reprovado\".\n",
        "Se a nota for entre 5 e 6.9, exiba \"Recuperação\".\n",
        "Se a nota for 7 ou maior, exiba \"Aprovado\".\n",
        "\n",
        "Desafio Extra:\n",
        "Verifique se a nota inserida está fora do intervalo de 0 a 10, e, se estiver,\n",
        "exiba uma mensagem \"Nota inválida\".'''\n",
        "\n",
        "nota = float(input('Insira a nota do aluno: '))\n",
        "\n",
        "if nota < 0 or nota > 10:\n",
        "  print('Insira um número válido')\n",
        "\n",
        "else:\n",
        "  if nota < 5:\n",
        "    print('Aluno reprovado.')\n",
        "  elif 5 <= nota <= 6.9:\n",
        "    print('Aluno de recuperação.')\n",
        "  else:\n",
        "    print('Aluno aprovado.')"
      ]
    }
  ]
}