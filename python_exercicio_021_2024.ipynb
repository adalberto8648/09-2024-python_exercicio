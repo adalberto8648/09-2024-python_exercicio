{
  "nbformat": 4,
  "nbformat_minor": 0,
  "metadata": {
    "colab": {
      "provenance": [],
      "authorship_tag": "ABX9TyMGFTzPprl8AK01q3AKdjcj",
      "include_colab_link": true
    },
    "kernelspec": {
      "name": "python3",
      "display_name": "Python 3"
    },
    "language_info": {
      "name": "python"
    }
  },
  "cells": [
    {
      "cell_type": "markdown",
      "metadata": {
        "id": "view-in-github",
        "colab_type": "text"
      },
      "source": [
        "<a href=\"https://colab.research.google.com/github/adalberto8648/exerciciopython2024/blob/main/python_exercicio_021_2024.ipynb\" target=\"_parent\"><img src=\"https://colab.research.google.com/assets/colab-badge.svg\" alt=\"Open In Colab\"/></a>"
      ]
    },
    {
      "cell_type": "code",
      "execution_count": null,
      "metadata": {
        "id": "_Jezj8VVMsC3"
      },
      "outputs": [],
      "source": [
        "'''Exercício 21: 09/2024\n",
        "\n",
        "Descrição: Crie um programa que peça ao usuário para digitar 6 números inteiros.\n",
        "O programa deve verificar se algum número é múltiplo de 5.\n",
        "Caso exista pelo menos um múltiplo de 5,\n",
        "o programa deve solicitar se o usuário deseja elevar esses múltiplos ao cubo ou\n",
        "dividir todos os números por 2.\n",
        "Se o usuário optar por elevar ao cubo, apenas os múltiplos de 5 devem ser alterados.\n",
        "Se o usuário optar por dividir, todos os números na lista devem ser divididos por 2.\n",
        "Se não houver múltiplos de 5, exiba a lista original, formatada com duas casas decimais,\n",
        "e a soma total dos números.'''\n",
        "\n",
        "try:\n",
        "  lista_vazia = []\n",
        "  for n in range(1, 7):\n",
        "    numeros = int(input(f'Digite o {n}° número inteiro: '))\n",
        "    lista_vazia.append(numeros)\n",
        "\n",
        "  if any(numero % 5 == 0 for numero in lista_vazia):\n",
        "    divisiveis = [numero for numero in lista_vazia if numero % 5 == 0]\n",
        "    print(f'Esse(s) é(são) número(s) múltiplo(s) por 5: {divisiveis}')\n",
        "    pergunta = input('Deseja elevar esses múltiplos de 5 ao cubo ou dividir todos por 2? (Cubo) ou (Dividir): ').lower()\n",
        "\n",
        "    if pergunta not in ['cubo', 'dividir']:\n",
        "      print('Escolha uma das opções (Cubo) ou (Dividir)')\n",
        "\n",
        "    elif pergunta == 'cubo':\n",
        "      for p, numero in enumerate(lista_vazia):\n",
        "        if numero % 5 == 0:\n",
        "          lista_vazia[p] = numero ** 3\n",
        "\n",
        "      formatar = [f'{numero:.2f}' for numero in lista_vazia]\n",
        "      print(f'A lista após elevado ao Cubo é: {formatar}')\n",
        "\n",
        "    else:\n",
        "      nova_lista = [numero / 2 for numero in lista_vazia]\n",
        "      formatar = [f'{numero:.2f}' for numero in nova_lista]\n",
        "      print(f'A lista digitada é: {formatar}')\n",
        "\n",
        "  else:\n",
        "    formatar = [f'{numero:.2f}' for numero in lista_vazia]\n",
        "    print(f'A lista digitada é: {formatar}')\n",
        "\n",
        "    soma_total = sum(lista_vazia)\n",
        "    print(f'A soma da lista digitada é: {soma_total:.2f}')\n",
        "\n",
        "except ValueError:\n",
        "  print('Digite apenas números inteiros')"
      ]
    }
  ]
}