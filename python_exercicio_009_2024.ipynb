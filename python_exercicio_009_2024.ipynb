{
  "nbformat": 4,
  "nbformat_minor": 0,
  "metadata": {
    "colab": {
      "provenance": [],
      "authorship_tag": "ABX9TyNSj62L1CICMmGRtGRtkUI9",
      "include_colab_link": true
    },
    "kernelspec": {
      "name": "python3",
      "display_name": "Python 3"
    },
    "language_info": {
      "name": "python"
    }
  },
  "cells": [
    {
      "cell_type": "markdown",
      "metadata": {
        "id": "view-in-github",
        "colab_type": "text"
      },
      "source": [
        "<a href=\"https://colab.research.google.com/github/adalberto8648/exerciciopython2024/blob/main/python_exercicio_009_2024.ipynb\" target=\"_parent\"><img src=\"https://colab.research.google.com/assets/colab-badge.svg\" alt=\"Open In Colab\"/></a>"
      ]
    },
    {
      "cell_type": "code",
      "execution_count": null,
      "metadata": {
        "id": "MKtExm9G3SuI"
      },
      "outputs": [],
      "source": [
        "'''Exercício 9: 09/2024\n",
        "\n",
        "Peça ao usuário para inserir dois números.\n",
        "Peça ao usuário para escolher uma operação entre: adição (+),\n",
        "subtração (-), multiplicação (*) ou divisão (/).\n",
        "Realize a operação escolhida e exiba o resultado.\n",
        "Tratamento de erro: Se o usuário inserir um valor inválido (não numérico) ou\n",
        "tentar dividir por zero, exiba uma mensagem de erro apropriada.\n",
        "\n",
        "Desafio Extra:\n",
        "Se a operação escolhida for inválida (qualquer coisa que não seja +, -, * ou /),\n",
        "exiba uma mensagem dizendo \"Operação inválida!\".'''\n",
        "\n",
        "try:\n",
        "  numero1 = int(input('Digite um número: '))\n",
        "  operação = input('Escolha a operação: (+) (-) (*) (/): ')\n",
        "  numero2 = int(input('Digite mais um número: '))\n",
        "\n",
        "  if operação == '/' and numero2 == 0:\n",
        "      print('Divisão por zero não é permitida')\n",
        "  elif operação == '/':\n",
        "      print('Resultado da divisão:', numero1 / numero2)\n",
        "  elif operação == '+':\n",
        "      print('Resultado da soma:', numero1 + numero2)\n",
        "  elif operação == '-':\n",
        "      print('Resultado da subtração:', numero1 - numero2)\n",
        "  elif operação == '*':\n",
        "      print('Resultado da multiplicação:', numero1 * numero2)\n",
        "\n",
        "  else:\n",
        "      print('Operação inválida')\n",
        "\n",
        "except ValueError:\n",
        "  print('Insira um número válido')"
      ]
    }
  ]
}