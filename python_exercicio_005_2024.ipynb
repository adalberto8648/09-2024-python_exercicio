{
  "nbformat": 4,
  "nbformat_minor": 0,
  "metadata": {
    "colab": {
      "provenance": [],
      "authorship_tag": "ABX9TyMNnWurc5uRFLYPQXm7kLLR",
      "include_colab_link": true
    },
    "kernelspec": {
      "name": "python3",
      "display_name": "Python 3"
    },
    "language_info": {
      "name": "python"
    }
  },
  "cells": [
    {
      "cell_type": "markdown",
      "metadata": {
        "id": "view-in-github",
        "colab_type": "text"
      },
      "source": [
        "<a href=\"https://colab.research.google.com/github/adalberto8648/exerciciopython2024/blob/main/python_exercicio_005_2024.ipynb\" target=\"_parent\"><img src=\"https://colab.research.google.com/assets/colab-badge.svg\" alt=\"Open In Colab\"/></a>"
      ]
    },
    {
      "cell_type": "code",
      "execution_count": null,
      "metadata": {
        "id": "LrRk2Pi3kOoo"
      },
      "outputs": [],
      "source": [
        "'''Exercício 5: 09/2024\n",
        "\n",
        "Peça ao usuário para inserir dois números: numero1 e numero2.\n",
        "Peça ao usuário para escolher uma operação matemática entre as seguintes:\n",
        "Soma (+)\n",
        "Subtração (-)\n",
        "Multiplicação (*)\n",
        "Divisão (/)\n",
        "Com base na operação escolhida, realize o cálculo correspondente e exiba o resultado.\n",
        "\n",
        "Desafio Extra:\n",
        "Adicione uma verificação para garantir que o usuário não tente dividir por zero,\n",
        "e se isso acontecer, exiba uma mensagem dizendo \"Divisão por zero não é permitida\".'''\n",
        "\n",
        "numero1 = int(input('Digite um número: '))\n",
        "operação = input('Escolha a operação: (+) (-) (*) (/)')\n",
        "numero2 = int(input('Digite mais um número: '))\n",
        "\n",
        "if operação == '/' and numero2 == 0:\n",
        "    print('Divisão por zero não é permitida')\n",
        "\n",
        "elif operação == '/':\n",
        "    print('Resultado da divisão:', numero1 / numero2)\n",
        "elif operação == '+':\n",
        "    print('Resultado da soma:', numero1 + numero2)\n",
        "elif operação == '-':\n",
        "    print('Resultado da subtração:', numero1 - numero2)\n",
        "elif operação == '*':\n",
        "    print('Resultado da multiplicação:', numero1 * numero2)\n",
        "else:\n",
        "    print('Operação inválida')"
      ]
    }
  ]
}