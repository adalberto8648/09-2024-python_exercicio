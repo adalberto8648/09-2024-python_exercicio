{
  "nbformat": 4,
  "nbformat_minor": 0,
  "metadata": {
    "colab": {
      "provenance": [],
      "authorship_tag": "ABX9TyO/qb3qYNA2/NQ6BxHX0/9D",
      "include_colab_link": true
    },
    "kernelspec": {
      "name": "python3",
      "display_name": "Python 3"
    },
    "language_info": {
      "name": "python"
    }
  },
  "cells": [
    {
      "cell_type": "markdown",
      "metadata": {
        "id": "view-in-github",
        "colab_type": "text"
      },
      "source": [
        "<a href=\"https://colab.research.google.com/github/adalberto8648/exerciciopython2024/blob/main/python_exercicio_017_2024.ipynb\" target=\"_parent\"><img src=\"https://colab.research.google.com/assets/colab-badge.svg\" alt=\"Open In Colab\"/></a>"
      ]
    },
    {
      "cell_type": "code",
      "execution_count": null,
      "metadata": {
        "id": "f_uyxttdaaKA"
      },
      "outputs": [],
      "source": [
        "'''Exercício 17: 09/2024\n",
        "\n",
        "Peça ao usuário para digitar 6 números inteiros e armazene-os em uma lista.\n",
        "Verifique se todos os números são ímpares. Se sim, exiba a mensagem: \"Todos os\n",
        "números são ímpares\". Caso contrário, exiba: \"Há pelo menos um número par\".\n",
        "Pergunte ao usuário se ele deseja: Somar os números, Multiplicar os números\n",
        "por um valor que ele escolher.\n",
        "Se o usuário escolher somar, mostre o resultado da soma e a lista de números\n",
        "formatados com duas casas decimais.\n",
        "Se o usuário escolher multiplicar, peça o número para multiplicar cada valor da lista.\n",
        "Mostre a nova lista após a multiplicação e a soma dos valores multiplicados,\n",
        "tudo formatado com duas casas decimais.\n",
        "Trate entradas inválidas usando try e except para garantir que o usuário\n",
        "digite apenas números inteiros.'''\n",
        "\n",
        "try:\n",
        "  lista_vazia = []\n",
        "  for n in range(1, 7):\n",
        "    numeros = int(input(f'Digite o {n}° número inteiro: '))\n",
        "    lista_vazia.append(numeros)\n",
        "\n",
        "  if all(numero % 2 != 0 for numero in lista_vazia):\n",
        "    print('Todos número são impares')\n",
        "\n",
        "  else:\n",
        "    pares = [numero for numero in lista_vazia if numero % 2 == 0]\n",
        "    print(f'Número(s) par(es) encontrado(s): {pares}')\n",
        "\n",
        "  pergunta = input('Deseja somar ou multiplicar os números por um valor que escolher? (Somar) ou (Multiplicar): ').lower()\n",
        "\n",
        "  if pergunta not in ['somar', 'multiplicar']:\n",
        "    print('Escolha entre as opções (Somar) ou (Multiplicar)')\n",
        "\n",
        "  else:\n",
        "    if pergunta == 'somar':\n",
        "      soma = sum(lista_vazia)\n",
        "      print(f'A soma da lista é: {soma:.2f}')\n",
        "      lista_formatada = [f'{numero:.2f}'for numero in lista_vazia]\n",
        "      print(f'A lista após a formatação é: {lista_formatada}')\n",
        "\n",
        "    else:\n",
        "      multiplicador = int(input('Escolha o número a ser multiplicado: '))\n",
        "      nova_lista = [numero * multiplicador for numero in lista_vazia]\n",
        "      formatacao = [f'{numero:.2f}' for numero in nova_lista]\n",
        "      print(f'Sua nova lista após a multiplicaão é: {formatacao}')\n",
        "      soma = sum(nova_lista)\n",
        "      print(f'A soma da nova lista é: {soma:.2f}')\n",
        "\n",
        "except ValueError:\n",
        "  print('Digite apenas números inteiros')"
      ]
    }
  ]
}