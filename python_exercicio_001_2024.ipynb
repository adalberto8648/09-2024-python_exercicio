{
  "nbformat": 4,
  "nbformat_minor": 0,
  "metadata": {
    "colab": {
      "provenance": [],
      "authorship_tag": "ABX9TyOdvd7WOrAzeJyr5bsPOnyI",
      "include_colab_link": true
    },
    "kernelspec": {
      "name": "python3",
      "display_name": "Python 3"
    },
    "language_info": {
      "name": "python"
    }
  },
  "cells": [
    {
      "cell_type": "markdown",
      "metadata": {
        "id": "view-in-github",
        "colab_type": "text"
      },
      "source": [
        "<a href=\"https://colab.research.google.com/github/adalberto8648/exerciciopython2024/blob/main/python_exercicio_001_2024.ipynb\" target=\"_parent\"><img src=\"https://colab.research.google.com/assets/colab-badge.svg\" alt=\"Open In Colab\"/></a>"
      ]
    },
    {
      "cell_type": "code",
      "execution_count": null,
      "metadata": {
        "id": "Wv219fmvMOQ_"
      },
      "outputs": [],
      "source": [
        "'''Exercício 001: 09/2024\n",
        "\n",
        "Crie uma variável chamada a e atribua a ela o valor 10.\n",
        "Crie uma variável chamada b e atribua a ela o valor 5.\n",
        "Crie uma variável chamada soma e armazene a soma de a e b.\n",
        "Crie uma variável chamada subtracao e armazene a diferença entre a e b.\n",
        "Crie uma variável chamada multiplicacao e armazene o produto de a e b.\n",
        "Crie uma variável chamada divisao e armazene o resultado da divisão de a por b.\n",
        "Imprima o valor de todas essas variáveis (soma, subtracao, multiplicacao e divisao).\n",
        "\n",
        "Desafio Extra:\n",
        "\n",
        "Modifique os valores de a e b e veja como os resultados mudam.\n",
        "Tente criar uma nova operação que calcule o quadrado de a.\n",
        "'''\n",
        "\n",
        "a = 10\n",
        "b = 5\n",
        "\n",
        "soma = a + b\n",
        "subtracao = a - b\n",
        "multiplicacao = a * b\n",
        "divisao = a / b\n",
        "\n",
        "print(f'Soma: {soma}')\n",
        "print(f'Subtração: {subtracao}')\n",
        "print(f'Multiplicação: {multiplicacao}')\n",
        "print(f'Divisão: {divisao}')\n",
        "\n",
        "quadrado = a ** 2\n",
        "print(f'Quadrado de {a}: {quadrado}')"
      ]
    }
  ]
}