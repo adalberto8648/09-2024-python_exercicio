{
  "nbformat": 4,
  "nbformat_minor": 0,
  "metadata": {
    "colab": {
      "provenance": [],
      "authorship_tag": "ABX9TyPULpzQ8N3hAFgFEdipvChB",
      "include_colab_link": true
    },
    "kernelspec": {
      "name": "python3",
      "display_name": "Python 3"
    },
    "language_info": {
      "name": "python"
    }
  },
  "cells": [
    {
      "cell_type": "markdown",
      "metadata": {
        "id": "view-in-github",
        "colab_type": "text"
      },
      "source": [
        "<a href=\"https://colab.research.google.com/github/adalberto8648/exerciciopython2024/blob/main/python_exercicio_028_2024.ipynb\" target=\"_parent\"><img src=\"https://colab.research.google.com/assets/colab-badge.svg\" alt=\"Open In Colab\"/></a>"
      ]
    },
    {
      "cell_type": "code",
      "execution_count": null,
      "metadata": {
        "id": "RlrTni4rbEvv"
      },
      "outputs": [],
      "source": [
        "'''Exercício 15 / 28: 09/2024\n",
        "\n",
        "Solicite ao usuário que informe 5 números inteiros, um de cada vez.\n",
        "Armazene esses números em uma lista.\n",
        "Exiba os números digitados na tela.\n",
        "Peça ao usuário que informe um número para ser multiplicado por cada valor da lista.\n",
        "Realize a multiplicação e substitua os valores da lista pelos resultados.\n",
        "Exiba a nova lista formatada com duas casas decimais.\n",
        "Se o usuário digitar um valor que não seja um número, o programa deve informar\n",
        "um erro e solicitar que ele tente novamente (use o try-except).\n",
        "Caso algum número informado seja negativo, exiba uma mensagem informando que\n",
        "\"Números negativos foram digitados\".\n",
        "No final, mostre a soma total dos números da lista multiplicada.\n",
        "Alterar o código feito para incluir o loop while'''\n",
        "\n",
        "lista_vazia = []\n",
        "\n",
        "print(\"Você pode digitar até 5 números inteiros. Para encerrar, digite um número negativo.\")\n",
        "\n",
        "while True:\n",
        "  try:\n",
        "    for n in range(1, 6):\n",
        "      numeros = int(input(f'Digite o {n}° número inteiro: '))\n",
        "      if numeros < 0:\n",
        "        print('Número negativo digitado. Encerrando a entrada de números.')\n",
        "        break\n",
        "      lista_vazia.append(numeros)\n",
        "    break\n",
        "  except ValueError:\n",
        "    print('Digite apenas números inteiros')\n",
        "\n",
        "if lista_vazia:\n",
        "  print(f'Os números digitados foram: {lista_vazia}')\n",
        "  multiplicador = int(input('Digite um número para multiplicar por cada valor da lista: '))\n",
        "\n",
        "  nova_lista = [numero * multiplicador for numero in lista_vazia]\n",
        "  formatacao = [f'{numero:.2f}' for numero in nova_lista]\n",
        "  print(f'Sua nova lista após a multiplicação é: {formatacao}')\n",
        "\n",
        "  soma = sum(nova_lista)\n",
        "  print(f'A soma da lista após a multiplicação é: {soma:.2f}')\n",
        "\n",
        "else:\n",
        "  print('O número negativo é usado para encerrar a primeira parte')"
      ]
    }
  ]
}