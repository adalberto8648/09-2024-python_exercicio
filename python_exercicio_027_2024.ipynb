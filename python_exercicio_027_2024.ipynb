{
  "nbformat": 4,
  "nbformat_minor": 0,
  "metadata": {
    "colab": {
      "provenance": [],
      "authorship_tag": "ABX9TyOb9M3PWBr60OHDL8F0Lmjc",
      "include_colab_link": true
    },
    "kernelspec": {
      "name": "python3",
      "display_name": "Python 3"
    },
    "language_info": {
      "name": "python"
    }
  },
  "cells": [
    {
      "cell_type": "markdown",
      "metadata": {
        "id": "view-in-github",
        "colab_type": "text"
      },
      "source": [
        "<a href=\"https://colab.research.google.com/github/adalberto8648/exerciciopython2024/blob/main/python_exercicio_027_2024.ipynb\" target=\"_parent\"><img src=\"https://colab.research.google.com/assets/colab-badge.svg\" alt=\"Open In Colab\"/></a>"
      ]
    },
    {
      "cell_type": "code",
      "execution_count": null,
      "metadata": {
        "id": "LHEVZjUpavek"
      },
      "outputs": [],
      "source": [
        "'''Exercício 27: 09/2024\n",
        "\n",
        " Solicite ao usuário que insira números inteiros positivos.\n",
        " O programa deve armazenar esses números em uma lista.\n",
        " Utilize um loop while para permitir que o usuário continue inserindo números\n",
        " até que ele digite um número negativo.\n",
        " Quando um número negativo for inserido, o programa deve parar de pedir entradas,\n",
        " exibir a lista de números inseridos e calcular:\n",
        "\n",
        "A soma de todos os números.\n",
        "A média dos números.\n",
        "O maior e o menor número da lista.\n",
        "Lembre-se de utilizar os seguintes tópicos:\n",
        "\n",
        "Operações aritméticas (para somar e calcular a média),\n",
        "Variáveis (para armazenar os números),\n",
        "Entrada e saída de dados (com input() e print()),\n",
        "Condicionais (para verificar se o número é negativo),\n",
        "Conversão de tipos (de string para int),\n",
        "Tratamento de erros e exceções (garantir que o usuário digite números inteiros),\n",
        "Listas (para armazenar os números),\n",
        "Loop while (para continuar pedindo entradas até o número negativo).'''\n",
        "\n",
        "lista_vazia = []\n",
        "\n",
        "while True:\n",
        "  try:\n",
        "    numeros = int(input('Digite um número inteiro até digitar um negativo: '))\n",
        "    if numeros < 0:\n",
        "      break\n",
        "    lista_vazia.append(numeros)\n",
        "  except ValueError:\n",
        "    print('Digite apenas números inteiros')\n",
        "\n",
        "if lista_vazia:\n",
        "  soma_total = sum(lista_vazia)\n",
        "  print(f'A soma total dos números após digitar o número negativo é: {soma_total:.2f}')\n",
        "\n",
        "  media = sum(lista_vazia) / len(lista_vazia)\n",
        "  print(f'A média dos números após digitar o número negativo é: {media:.2f}')\n",
        "\n",
        "  maior = max(lista_vazia)\n",
        "  print(f'O maior número encontrado na lista após digitar o número negativo é: {maior}')\n",
        "\n",
        "  menor = min(lista_vazia)\n",
        "  print(f'O menor número encontrado na lista após digitar o número negativo é: {menor}')\n",
        "\n",
        "else:\n",
        "  print('O número negativo é usado para encerrar a primeira parte')"
      ]
    }
  ]
}