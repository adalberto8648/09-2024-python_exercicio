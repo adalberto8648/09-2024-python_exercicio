{
  "nbformat": 4,
  "nbformat_minor": 0,
  "metadata": {
    "colab": {
      "provenance": [],
      "authorship_tag": "ABX9TyM1NEJsL1B4E6Rvz1uZSQqK",
      "include_colab_link": true
    },
    "kernelspec": {
      "name": "python3",
      "display_name": "Python 3"
    },
    "language_info": {
      "name": "python"
    }
  },
  "cells": [
    {
      "cell_type": "markdown",
      "metadata": {
        "id": "view-in-github",
        "colab_type": "text"
      },
      "source": [
        "<a href=\"https://colab.research.google.com/github/adalberto8648/exerciciopython2024/blob/main/python_exercicio_006_2024.ipynb\" target=\"_parent\"><img src=\"https://colab.research.google.com/assets/colab-badge.svg\" alt=\"Open In Colab\"/></a>"
      ]
    },
    {
      "cell_type": "code",
      "execution_count": null,
      "metadata": {
        "id": "j_4g1K0cnRV1"
      },
      "outputs": [],
      "source": [
        "'''Exercício 6: 09/2024\n",
        "\n",
        "Peça ao usuário para inserir o peso em quilos (peso).\n",
        "Peça ao usuário para inserir a altura em metros (altura).\n",
        "Calcule o IMC usando a fórmula: IMC = peso / (altura ** 2).\n",
        "Exiba o valor do IMC e diga em qual das seguintes categorias a pessoa se encontra:\n",
        "Abaixo do peso (IMC < 18.5)\n",
        "Peso normal (IMC entre 18.5 e 24.9)\n",
        "Sobrepeso (IMC entre 25 e 29.9)\n",
        "Obesidade (IMC 30 ou maior)\n",
        "\n",
        "Desafio Extra:\n",
        "Faça verificações para garantir que os valores inseridos para peso e altura sejam positivos,\n",
        "e caso contrário, exiba uma mensagem dizendo \"Valores inválidos\".'''\n",
        "\n",
        "peso = int(input('Informe seu peso: Kg '))\n",
        "altura = float(input('Informe sua altura: '))\n",
        "\n",
        "if peso <= 0 or altura <= 0:\n",
        "  print('Valor negativo e zero são inválidos:')\n",
        "\n",
        "else:\n",
        "  IMC = peso / (altura **2)\n",
        "\n",
        "  if IMC < 18.5:\n",
        "    print('Você se encontra abaixo do peso.')\n",
        "  elif 18.5 <= IMC <= 24.9:\n",
        "    print(' Você se encontra no peso normal.')\n",
        "  elif 25 <= IMC <= 29.9:\n",
        "    print(' Você se encontra com sobrepeso.')\n",
        "  else:\n",
        "    print('Você se encontra obeso.')"
      ]
    }
  ]
}