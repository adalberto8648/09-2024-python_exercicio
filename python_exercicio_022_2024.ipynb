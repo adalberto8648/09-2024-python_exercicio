{
  "nbformat": 4,
  "nbformat_minor": 0,
  "metadata": {
    "colab": {
      "provenance": [],
      "authorship_tag": "ABX9TyMFVrODAQjbmJeTkXozPX1h",
      "include_colab_link": true
    },
    "kernelspec": {
      "name": "python3",
      "display_name": "Python 3"
    },
    "language_info": {
      "name": "python"
    }
  },
  "cells": [
    {
      "cell_type": "markdown",
      "metadata": {
        "id": "view-in-github",
        "colab_type": "text"
      },
      "source": [
        "<a href=\"https://colab.research.google.com/github/adalberto8648/exerciciopython2024/blob/main/python_exercicio_022_2024.ipynb\" target=\"_parent\"><img src=\"https://colab.research.google.com/assets/colab-badge.svg\" alt=\"Open In Colab\"/></a>"
      ]
    },
    {
      "cell_type": "code",
      "execution_count": null,
      "metadata": {
        "id": "mYjr8DpZNI7v"
      },
      "outputs": [],
      "source": [
        "'''Exercício 22: 09/2024\n",
        "\n",
        "Peça ao usuário que insira uma lista de 7 números inteiros e armazene-os em uma lista.\n",
        "Verifique se todos os números da lista são pares.\n",
        "Se todos forem pares, pergunte se ele gostaria de elevar todos ao quadrado ou somá-los.\n",
        "Dependendo da escolha, eleve os números ao quadrado ou some todos os números.\n",
        "Mostre a lista formatada e o resultado final (a soma ou os números elevados ao quadrado).\n",
        "Se nem todos os números forem pares, mostre a lista formatada e a média dos números.'''\n",
        "\n",
        "try:\n",
        "  lista_vazia = []\n",
        "  for n in range(1, 8):\n",
        "    numeros = int(input(f'Digite o {n}° número inteiro: '))\n",
        "    lista_vazia.append(numeros)\n",
        "\n",
        "  if all(numero % 2 == 0 for numero in lista_vazia):\n",
        "\n",
        "    pergunta = input('Gostaria de elevar todos os números ao quadrado ou somar? (Quadrado) ou (Somar): ').lower()\n",
        "\n",
        "    if pergunta not in ['quadrado', 'somar']:\n",
        "      print('Deve escolher entre as opções: (Quadrado) ou (Somar)')\n",
        "\n",
        "    elif pergunta == 'quadrado':\n",
        "      nova_lista = [numero ** 2 for numero in lista_vazia]\n",
        "      formatar = [f'{numero:.2f}' for numero in nova_lista]\n",
        "      print(f'Sua lista após elevar ao Quadrado é: {formatar}')\n",
        "\n",
        "    else:\n",
        "      soma = sum(lista_vazia)\n",
        "      print(f'A soma é: {soma:.2f}')\n",
        "\n",
        "  else:\n",
        "    nao_pares = [numero for numero in lista_vazia if numero % 2 != 0]\n",
        "    print(f'Este(s) número(s) não é(são) par(es): {nao_pares}')\n",
        "    formatar = [f'{numero:.2f}' for numero in lista_vazia]\n",
        "    print(f'Sua lista formatada é: {formatar}')\n",
        "\n",
        "    media = sum(lista_vazia) / len(lista_vazia)\n",
        "    print(f'A média dos números digitados é: {media:.2f}')\n",
        "\n",
        "except ValueError:\n",
        "  print('Digite apenas números inteiros')"
      ]
    }
  ]
}