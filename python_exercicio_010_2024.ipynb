{
  "nbformat": 4,
  "nbformat_minor": 0,
  "metadata": {
    "colab": {
      "provenance": [],
      "authorship_tag": "ABX9TyNlLRbsu5xrD9Zm26QowSWf",
      "include_colab_link": true
    },
    "kernelspec": {
      "name": "python3",
      "display_name": "Python 3"
    },
    "language_info": {
      "name": "python"
    }
  },
  "cells": [
    {
      "cell_type": "markdown",
      "metadata": {
        "id": "view-in-github",
        "colab_type": "text"
      },
      "source": [
        "<a href=\"https://colab.research.google.com/github/adalberto8648/exerciciopython2024/blob/main/python_exercicio_010_2024.ipynb\" target=\"_parent\"><img src=\"https://colab.research.google.com/assets/colab-badge.svg\" alt=\"Open In Colab\"/></a>"
      ]
    },
    {
      "cell_type": "code",
      "execution_count": null,
      "metadata": {
        "id": "hfW8bBSZJJw9"
      },
      "outputs": [],
      "source": [
        "'''Exercício 10: 09/2024\n",
        "\n",
        "Peça ao usuário para inserir um ano.\n",
        "Verifique se o ano é bissexto:\n",
        "Um ano é bissexto se for divisível por 4.\n",
        "No entanto, anos divisíveis por 100 não são bissextos,\n",
        "exceto se forem divisíveis por 400.\n",
        "Exiba a mensagem \"Ano bissexto\" ou \"Ano não bissexto\" conforme o caso.\n",
        "Tratamento de erro: Se o usuário inserir um valor inválido (não numérico),\n",
        "exiba uma mensagem de erro adequada.'''\n",
        "\n",
        "try:\n",
        "  ano = int(input('Digite um ano: '))\n",
        "\n",
        "  if (ano % 4 == 0 and ano % 100 != 0) or (ano % 400 == 0):\n",
        "    print('Ano bissexto.')\n",
        "  else:\n",
        "    print('Ano não bissexto.')\n",
        "\n",
        "except ValueError:\n",
        "  print('Insira um valor válido')"
      ]
    }
  ]
}