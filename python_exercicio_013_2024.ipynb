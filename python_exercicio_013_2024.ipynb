{
  "nbformat": 4,
  "nbformat_minor": 0,
  "metadata": {
    "colab": {
      "provenance": [],
      "authorship_tag": "ABX9TyN02RRgee5ztombMus17YtN",
      "include_colab_link": true
    },
    "kernelspec": {
      "name": "python3",
      "display_name": "Python 3"
    },
    "language_info": {
      "name": "python"
    }
  },
  "cells": [
    {
      "cell_type": "markdown",
      "metadata": {
        "id": "view-in-github",
        "colab_type": "text"
      },
      "source": [
        "<a href=\"https://colab.research.google.com/github/adalberto8648/exerciciopython2024/blob/main/python_exercicio_013_2024.ipynb\" target=\"_parent\"><img src=\"https://colab.research.google.com/assets/colab-badge.svg\" alt=\"Open In Colab\"/></a>"
      ]
    },
    {
      "cell_type": "code",
      "execution_count": null,
      "metadata": {
        "id": "522QjzuFKk7h"
      },
      "outputs": [],
      "source": [
        "'''Exercício 13: 09/2024\n",
        "\n",
        "Solicite o nome do usuário:\n",
        "Solicite três notas (como valores float).\n",
        "Calcule a média das três notas.\n",
        "Exiba a média formatada com duas casas decimais.\n",
        "Verifique as seguintes condições:\n",
        "Se a média for menor que 5, exiba \"Aluno reprovado\".\n",
        "Se a média estiver entre 5 e 6.9, exiba \"Aluno em recuperação\".\n",
        "Se a média for 7 ou maior, exiba \"Aluno aprovado\".\n",
        "Caso o usuário insira um valor inválido (como letras ao invés de números),\n",
        "exiba uma mensagem de erro apropriada usando try e except.'''\n",
        "\n",
        "try:\n",
        "  numero_usuario = input('Digite o seu nome: ')\n",
        "  nota1 = float(input('Digite a primeira nota: '))\n",
        "  nota2 = float(input('Digite a segunda nota: '))\n",
        "  nota3 = float(input('Digite a terceira nota: '))\n",
        "\n",
        "  media = (nota1 + nota2 + nota3) / 3\n",
        "  print(f'A média das 3 notas é: {media:.2f}')\n",
        "\n",
        "  if media < 5:\n",
        "    print('Você foi reprovado')\n",
        "  elif 5 <= media <= 6.9:\n",
        "    print('Você está em recuperação')\n",
        "  else:\n",
        "    print('Você foi aprovado')\n",
        "\n",
        "\n",
        "except ValueError:\n",
        "  print('Por favor, insira valores numéricos válidos para as notas')"
      ]
    }
  ]
}