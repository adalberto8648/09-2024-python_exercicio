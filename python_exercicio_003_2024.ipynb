{
  "nbformat": 4,
  "nbformat_minor": 0,
  "metadata": {
    "colab": {
      "provenance": [],
      "authorship_tag": "ABX9TyNpB5Z/mkvjsvqdxb4Mw+To",
      "include_colab_link": true
    },
    "kernelspec": {
      "name": "python3",
      "display_name": "Python 3"
    },
    "language_info": {
      "name": "python"
    }
  },
  "cells": [
    {
      "cell_type": "markdown",
      "metadata": {
        "id": "view-in-github",
        "colab_type": "text"
      },
      "source": [
        "<a href=\"https://colab.research.google.com/github/adalberto8648/exerciciopython2024/blob/main/python_exercicio_003_2024.ipynb\" target=\"_parent\"><img src=\"https://colab.research.google.com/assets/colab-badge.svg\" alt=\"Open In Colab\"/></a>"
      ]
    },
    {
      "cell_type": "code",
      "execution_count": null,
      "metadata": {
        "id": "Miw27XoRMlvO"
      },
      "outputs": [],
      "source": [
        "'''Exercício 003: 09/2024\n",
        "\n",
        "Peça ao usuário para inserir dois números: numero1 e numero2.\n",
        "Compare os dois números:\n",
        "Se numero1 for maior que numero2, exiba \"O primeiro número é maior\".\n",
        "Se numero2 for maior que numero1, exiba \"O segundo número é maior\".\n",
        "Se os dois números forem iguais, exiba \"Os dois números são iguais\".\n",
        "\n",
        "Desafio Extra:\n",
        "\n",
        "Adicione uma terceira comparação para verificar se algum dos números é negativo e,\n",
        "se for, exiba uma mensagem dizendo \"Um dos números é negativo\".\n",
        "'''\n",
        "\n",
        "numero1 = int(input('Digite o primeiro número: '))\n",
        "numero2 = int(input('Digite o segundo número: '))\n",
        "\n",
        "if numero1 > numero2:\n",
        "  print('O primeiro número é maior')\n",
        "elif numero1 < numero2:\n",
        "  print('O segundo número é maior')\n",
        "else:\n",
        "  print('Os dois números são iguais')\n",
        "\n",
        "if numero1 < 0:\n",
        "  print('O primeiro número é negativo')\n",
        "elif numero2 < 0:\n",
        "  print('O segundo número é negativo')"
      ]
    }
  ]
}