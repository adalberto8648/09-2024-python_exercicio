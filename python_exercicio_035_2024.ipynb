{
  "nbformat": 4,
  "nbformat_minor": 0,
  "metadata": {
    "colab": {
      "provenance": [],
      "authorship_tag": "ABX9TyPefYBZBesF3aMNVqAcYFCw",
      "include_colab_link": true
    },
    "kernelspec": {
      "name": "python3",
      "display_name": "Python 3"
    },
    "language_info": {
      "name": "python"
    }
  },
  "cells": [
    {
      "cell_type": "markdown",
      "metadata": {
        "id": "view-in-github",
        "colab_type": "text"
      },
      "source": [
        "<a href=\"https://colab.research.google.com/github/adalberto8648/09-2024-python_exercicio/blob/main/python_exercicio_035_2024.ipynb\" target=\"_parent\"><img src=\"https://colab.research.google.com/assets/colab-badge.svg\" alt=\"Open In Colab\"/></a>"
      ]
    },
    {
      "cell_type": "code",
      "execution_count": null,
      "metadata": {
        "id": "IQZ8Q2we-rhD"
      },
      "outputs": [],
      "source": [
        "'''Exercício 21 / 35: 09/2024\n",
        "\n",
        "Descrição: Crie um programa que peça ao usuário para digitar 6 números inteiros.\n",
        "O programa deve verificar se algum número é múltiplo de 5.\n",
        "Caso exista pelo menos um múltiplo de 5,\n",
        "o programa deve solicitar se o usuário deseja elevar esses múltiplos ao cubo ou\n",
        "dividir todos os números por 2.\n",
        "Se o usuário optar por elevar ao cubo, apenas os múltiplos de 5 devem ser alterados.\n",
        "Se o usuário optar por dividir, todos os números na lista devem ser divididos por 2.\n",
        "Se não houver múltiplos de 5, exiba a lista original, formatada com duas casas decimais,\n",
        "e a soma total dos números.\n",
        "Alterar o código feito para incluir o loop while'''\n",
        "\n",
        "lista_vazia = []\n",
        "print(\"Você pode digitar até 5 números inteiros. Para encerrar, digite um número negativo.\")\n",
        "while True:\n",
        "  try:\n",
        "    for n in range(1, 6):\n",
        "      numeros = int(input(f'Digite o {n}° número inteiro: '))\n",
        "      if numeros < 0:\n",
        "        print('Número negativo digitado, encerrando entrada de números')\n",
        "        break\n",
        "      lista_vazia.append(numeros)\n",
        "    break\n",
        "  except ValueError:\n",
        "    print('Digite apenas números inteiros')\n",
        "\n",
        "if any(numero % 5 == 0 for numero in lista_vazia):\n",
        "  divisiveis = [numero for numero in lista_vazia if numero % 5 == 0]\n",
        "  print(f'Esse(s) é(são) número(s) múltiplo(s) por 5: {divisiveis}')\n",
        "\n",
        "  while True:\n",
        "    pergunta = input('Deseja elevar esses múltiplos de 5 ao cubo ou dividir todos por 2? (Cubo) ou (Dividir): ').lower()\n",
        "    if pergunta in ['cubo', 'dividir']:\n",
        "      break\n",
        "    else:\n",
        "      print('Escolha uma das opções (Cubo) ou (Dividir)')\n",
        "\n",
        "  if pergunta == 'cubo':\n",
        "    for p, numero in enumerate(lista_vazia):\n",
        "      if numero % 5 == 0:\n",
        "        lista_vazia[p] = numero ** 3\n",
        "    formatar = [f'{numero:.2f}' for numero in lista_vazia]\n",
        "    print(f'A lista após elevado ao Cubo é: {formatar}')\n",
        "\n",
        "  else:\n",
        "    nova_lista = [numero / 2 for numero in lista_vazia]\n",
        "    formatar = [f'{numero:.2f}' for numero in nova_lista]\n",
        "    print(f'A lista digitada é: {formatar}')\n",
        "\n",
        "else:\n",
        "  formatar = [f'{numero:.2f}' for numero in lista_vazia]\n",
        "  print(f'A lista digitada é: {formatar}')\n",
        "  soma_total = sum(lista_vazia)\n",
        "  print(f'A soma da lista digitada é: {soma_total:.2f}')"
      ]
    }
  ]
}