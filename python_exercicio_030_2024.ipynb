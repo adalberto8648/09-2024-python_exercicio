{
  "nbformat": 4,
  "nbformat_minor": 0,
  "metadata": {
    "colab": {
      "provenance": [],
      "authorship_tag": "ABX9TyOPNHHIMvWKsvyCKhM7pqli",
      "include_colab_link": true
    },
    "kernelspec": {
      "name": "python3",
      "display_name": "Python 3"
    },
    "language_info": {
      "name": "python"
    }
  },
  "cells": [
    {
      "cell_type": "markdown",
      "metadata": {
        "id": "view-in-github",
        "colab_type": "text"
      },
      "source": [
        "<a href=\"https://colab.research.google.com/github/adalberto8648/exerciciopython2024/blob/main/python_exercicio_030_2024.ipynb\" target=\"_parent\"><img src=\"https://colab.research.google.com/assets/colab-badge.svg\" alt=\"Open In Colab\"/></a>"
      ]
    },
    {
      "cell_type": "code",
      "execution_count": null,
      "metadata": {
        "id": "PpBp0A_Kbt1V"
      },
      "outputs": [],
      "source": [
        "'''Exercício 17 / 30: 09/2024\n",
        "\n",
        "Peça ao usuário para digitar 6 números inteiros e armazene-os em uma lista.\n",
        "Verifique se todos os números são ímpares. Se sim, exiba a mensagem:\n",
        "\"Todos os números são ímpares\". Caso contrário, exiba: \"Há pelo menos um número par\".\n",
        "Pergunte ao usuário se ele deseja: Somar os números, Multiplicar os números\n",
        "por um valor que ele escolher.\n",
        "Se o usuário escolher somar, mostre o resultado da soma e a lista de números\n",
        "formatados com duas casas decimais.\n",
        "Se o usuário escolher multiplicar, peça o número para multiplicar cada valor da lista.\n",
        "Mostre a nova lista após a multiplicação e a soma dos valores multiplicados,\n",
        "tudo formatado com duas casas decimais.\n",
        "Trate entradas inválidas usando try e except para garantir que o usuário\n",
        "digite apenas números inteiros.\n",
        "Alterar o código feito para incluir o loop while'''\n",
        "\n",
        "lista_vazia = []\n",
        "\n",
        "print(\"Você pode digitar até 5 números inteiros. Para encerrar, digite um número negativo.\")\n",
        "\n",
        "while True:\n",
        "  try:\n",
        "    for n in range(1, 6):\n",
        "      numeros = int(input(f'Digite o {n}° número inteiro: '))\n",
        "      if numeros < 0:\n",
        "        print('Número negativo digitado. Encerrando a entrada de números.')\n",
        "        break\n",
        "      lista_vazia.append(numeros)\n",
        "    break\n",
        "  except ValueError:\n",
        "    print('Digite apenas números inteiros')\n",
        "\n",
        "if all(numero % 2 != 0 for numero in lista_vazia):\n",
        "  print('Todos número são impares')\n",
        "\n",
        "else:\n",
        "  pares = [numero for numero in lista_vazia if numero % 2 == 0]\n",
        "  print(f'Número(s) par(es) encontrado(s): {pares}')\n",
        "\n",
        "while True:\n",
        "  pergunta = input('Deseja somar ou multiplicar os números por um valor que escolher? (Somar) ou (Multiplicar): ').lower()\n",
        "  if pergunta in ['somar', 'multiplicar']:\n",
        "    break\n",
        "  else:\n",
        "    print('Escolha entre as opções (Somar) ou (Multiplicar)')\n",
        "\n",
        "if pergunta == 'somar':\n",
        "  soma = sum(lista_vazia)\n",
        "  print(f'A soma da lista é: {soma:.2f}')\n",
        "  lista_formatada = [f'{numero:.2f}'for numero in lista_vazia]\n",
        "  print(f'A lista após a formatação é: {lista_formatada}')\n",
        "\n",
        "else:\n",
        "  while True:\n",
        "    try:\n",
        "      multiplicador = int(input('Escolha o número inteiro e maior que 0 a ser multiplicado : '))\n",
        "      if multiplicador > 0:\n",
        "        break\n",
        "    except ValueError:\n",
        "      print('Digite apenas números inteiros e maior que 0')\n",
        "\n",
        "  nova_lista = [numero * multiplicador for numero in lista_vazia]\n",
        "  formatacao = [f'{numero:.2f}' for numero in nova_lista]\n",
        "  print(f'Sua nova lista após a multiplicação é: {formatacao}')\n",
        "  soma = sum(nova_lista)\n",
        "  print(f'A soma da nova lista é: {soma:.2f}')"
      ]
    }
  ]
}