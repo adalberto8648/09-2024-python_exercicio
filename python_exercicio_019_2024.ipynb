{
  "nbformat": 4,
  "nbformat_minor": 0,
  "metadata": {
    "colab": {
      "provenance": [],
      "authorship_tag": "ABX9TyOF3dzdxpqZiZ+Phrm7FfmP",
      "include_colab_link": true
    },
    "kernelspec": {
      "name": "python3",
      "display_name": "Python 3"
    },
    "language_info": {
      "name": "python"
    }
  },
  "cells": [
    {
      "cell_type": "markdown",
      "metadata": {
        "id": "view-in-github",
        "colab_type": "text"
      },
      "source": [
        "<a href=\"https://colab.research.google.com/github/adalberto8648/exerciciopython2024/blob/main/python_exercicio_019_2024.ipynb\" target=\"_parent\"><img src=\"https://colab.research.google.com/assets/colab-badge.svg\" alt=\"Open In Colab\"/></a>"
      ]
    },
    {
      "cell_type": "code",
      "execution_count": null,
      "metadata": {
        "id": "FWFsb74NbauS"
      },
      "outputs": [],
      "source": [
        "'''Exercício 19: 09/2024\n",
        "\n",
        "Solicite ao usuário 5 números inteiros. O programa deverá fazer o seguinte:\n",
        "Armazenar os números em uma lista.\n",
        "Verificar se todos os números são múltiplos de 3. Se forem, exibir uma mensagem\n",
        "informando que todos são múltiplos de 3; caso contrário, informar que nem todos são múltiplos de 3.\n",
        "Perguntar ao usuário se ele deseja elevar os números da lista ao quadrado.\n",
        "A resposta deve ser 'sim' ou 'não'.\n",
        "Se a resposta for 'sim', eleve cada número da lista ao quadrado, exiba a nova\n",
        "lista formatada com duas casas decimais e também mostre a soma total da nova lista.\n",
        "Se a resposta for 'não', exiba a lista original formatada com duas casas\n",
        "decimais e a soma dos números da lista original.\n",
        "Trate possíveis erros de entrada com try e except, garantindo que o usuário\n",
        "insira apenas números inteiros.'''\n",
        "\n",
        "try:\n",
        "  lista_vazia = []\n",
        "  for n in range(1, 6):\n",
        "    numeros = int(input(f'Digite o {n}° número inteiro: '))\n",
        "    lista_vazia.append(numeros)\n",
        "\n",
        "  if all(numero % 3 == 0 for numero in lista_vazia):\n",
        "    print('Todos os números digitados são múltiplos de 3')\n",
        "\n",
        "  else:\n",
        "    nao_multiplos = [numero for numero in lista_vazia if numero % 3 != 0]\n",
        "    print(f'Esse(s) número(s) digitado(s) não é(são) múltiplo(s) de 3: {nao_multiplos}')\n",
        "\n",
        "  pergunta = input('Deseja elevar os números da lista ao quadrado? (Sim) ou (Não): ').lower()\n",
        "\n",
        "  if pergunta not in ['sim', 'não']:\n",
        "    print('Escolha entre as opções (Sim) ou (Nâo)')\n",
        "\n",
        "  elif pergunta == 'sim':\n",
        "    nova_lista = [numero ** 2 for numero in lista_vazia]\n",
        "    formatar = [f'{numero:.2f}' for numero in nova_lista]\n",
        "    print(f'Sua nova lista após elevar ao quadrado é: {formatar}')\n",
        "\n",
        "    soma_total = sum(nova_lista)\n",
        "    print(f'A soma total dos números após elevar ao quadrado é: {soma_total:.2f}')\n",
        "\n",
        "  else:\n",
        "    formatar = [f'{numero:.2f}' for numero in lista_vazia]\n",
        "    print(f'Sua lista é: {formatar}')\n",
        "\n",
        "    soma_total = sum(lista_vazia)\n",
        "    print(f'A soma total dos números é: {soma_total:.2f}')\n",
        "\n",
        "except ValueError:\n",
        "  print('Digite números inteiros')"
      ]
    }
  ]
}