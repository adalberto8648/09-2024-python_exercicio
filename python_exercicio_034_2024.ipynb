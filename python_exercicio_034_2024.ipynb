{
  "nbformat": 4,
  "nbformat_minor": 0,
  "metadata": {
    "colab": {
      "provenance": [],
      "authorship_tag": "ABX9TyN/BSG8rc+8bqir+gvxAf2g",
      "include_colab_link": true
    },
    "kernelspec": {
      "name": "python3",
      "display_name": "Python 3"
    },
    "language_info": {
      "name": "python"
    }
  },
  "cells": [
    {
      "cell_type": "markdown",
      "metadata": {
        "id": "view-in-github",
        "colab_type": "text"
      },
      "source": [
        "<a href=\"https://colab.research.google.com/github/adalberto8648/09-2024-python_exercicio/blob/main/python_exercicio_034_2024.ipynb\" target=\"_parent\"><img src=\"https://colab.research.google.com/assets/colab-badge.svg\" alt=\"Open In Colab\"/></a>"
      ]
    },
    {
      "cell_type": "code",
      "execution_count": null,
      "metadata": {
        "id": "l8Rl4kdQ-W6R"
      },
      "outputs": [],
      "source": [
        "'''Exercício 34: 09/2024\n",
        "\n",
        "Crie um programa que permita ao usuário inserir até 10 números inteiros,\n",
        "com as seguintes funcionalidades:\n",
        "Se o usuário digitar um número negativo, o programa deve interromper a entrada\n",
        "de dados e exibir a lista dos números já digitados.\n",
        "Após a entrada dos números, o programa deve identificar e exibir:\n",
        "Todos os números ímpares.\n",
        "Todos os números pares.\n",
        "A soma total de todos os números digitados.\n",
        "A média dos números digitados.\n",
        "O usuário será perguntado se deseja multiplicar os números da lista por um valor de sua escolha.\n",
        "Se o usuário optar por “Sim”, o programa deve multiplicar os números e exibir a nova lista.\n",
        "O programa deve substituir todos os números menores ou iguais a 5 por 0, se o usuário optar por isso.\n",
        "Após todas as operações, exiba a lista final formatada com duas casas decimais\n",
        "e o valor total da soma dos números dessa lista.\n",
        "Use loops, condicionais, listas, e formatação de strings com f-strings para resolver o exercício.'''\n",
        "\n",
        "lista_vazia = []\n",
        "print(\"Você pode digitar até 10 números inteiros. Para encerrar, digite um número negativo.\")\n",
        "while True:\n",
        "  try:\n",
        "    for n in range(1, 11):\n",
        "      numeros = int(input(f'Digite o {n}° número inteiro: '))\n",
        "      if numeros < 0:\n",
        "        print('Número negativo digitado, encerrando entrada de números')\n",
        "        break\n",
        "      lista_vazia.append(numeros)\n",
        "    break\n",
        "  except ValueError:\n",
        "    print('Digite apenas números inteiros')\n",
        "\n",
        "lista_formatada = [f'{numero:.2f}' for numero in lista_vazia]\n",
        "print(f'Sua lista após formatação é: {lista_formatada}')\n",
        "\n",
        "impares = [numero for numero in lista_vazia if numero % 2 != 0]\n",
        "impares_formatados = [f'{numero:.2f}' for numero in impares]\n",
        "print(f'Lista de impares é: {impares_formatados}')\n",
        "\n",
        "pares = [numero for numero in lista_vazia if numero % 2 == 0]\n",
        "pares_formatados = [f'{numero:.2f}' for numero in pares]\n",
        "print(f'Lista de pares é: {pares_formatados}')\n",
        "\n",
        "soma_total = sum(lista_vazia)\n",
        "print(f'A soma total dos números é: {soma_total:.2f}')\n",
        "\n",
        "media = sum(lista_vazia) / len(lista_vazia)\n",
        "print(f'A média dos números é: {media:.2f}')\n",
        "\n",
        "while True:\n",
        "  pergunta = input('Deseja multiplicar os números da lista por algum valor? (Sim) ou (Não): ').lower()\n",
        "  if pergunta in ['sim', 'não']:\n",
        "    break\n",
        "  else:\n",
        "    print('Escolha uma das opções: (Sim) ou (Nâo)')\n",
        "\n",
        "if pergunta == 'sim':\n",
        "  while True:\n",
        "    try:\n",
        "      multiplicador = int(input('Qual númreo quer fazer a multiplicação? '))\n",
        "      if multiplicador > 0:\n",
        "        break\n",
        "      else:\n",
        "        print('Escolha um número positivo')\n",
        "    except ValueError:\n",
        "      print('Digite um número válido')\n",
        "\n",
        "  nova_lista = [numero * multiplicador for numero in lista_vazia]\n",
        "  nova_lista_formatada = [f'{numero:.2f}' for numero in nova_lista]\n",
        "  print(f'Sua nova lista após multiplicação é: {nova_lista_formatada}')\n",
        "\n",
        "else:\n",
        "  nova_lista = lista_vazia\n",
        "\n",
        "  while True:\n",
        "    pergunta_substituicao = input('Deseja substituir os números menores ou iguais a 5 por 0? (Sim) ou (Não): ').lower()\n",
        "    if pergunta_substituicao in ['sim', 'não']:\n",
        "      break\n",
        "    else:\n",
        "      print('Escolha uma das opções: (Sim) ou (Nâo)')\n",
        "\n",
        "  if pergunta_substituicao == 'sim':\n",
        "    nova_lista_substituicao = [0 if numero <= 5 else numero for numero in nova_lista]\n",
        "\n",
        "    lista_final_formatada = [f'{numero:.2f}' for numero in nova_lista_substituicao]\n",
        "    print(f'Sua lista final após todas as operações é: {lista_final_formatada}')\n",
        "    soma_final = sum(nova_lista_substituicao)\n",
        "    print(f'A soma total após a substituição é: {soma_final:.2f}')"
      ]
    }
  ]
}