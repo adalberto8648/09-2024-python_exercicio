{
  "nbformat": 4,
  "nbformat_minor": 0,
  "metadata": {
    "colab": {
      "provenance": [],
      "authorship_tag": "ABX9TyPDV+fVLti3UTeRZAHcat9j",
      "include_colab_link": true
    },
    "kernelspec": {
      "name": "python3",
      "display_name": "Python 3"
    },
    "language_info": {
      "name": "python"
    }
  },
  "cells": [
    {
      "cell_type": "markdown",
      "metadata": {
        "id": "view-in-github",
        "colab_type": "text"
      },
      "source": [
        "<a href=\"https://colab.research.google.com/github/adalberto8648/exerciciopython2024/blob/main/python_exercicio_007_2024.ipynb\" target=\"_parent\"><img src=\"https://colab.research.google.com/assets/colab-badge.svg\" alt=\"Open In Colab\"/></a>"
      ]
    },
    {
      "cell_type": "code",
      "execution_count": null,
      "metadata": {
        "id": "Oc6CuGQMmNnx"
      },
      "outputs": [],
      "source": [
        "'''Exercício 7: 09/2024\n",
        "\n",
        "Peça ao usuário para inserir um número inteiro.\n",
        "Verifique se o número é par ou ímpar.\n",
        "Se o número for divisível por 2 (ou seja, numero % 2 == 0), exiba \"O número é par\".\n",
        "Caso contrário, exiba \"O número é ímpar\".\n",
        "\n",
        "Desafio Extra:\n",
        "\n",
        "Verifique se o número inserido é positivo, negativo ou zero, e exiba uma mensagem adicional dizendo:\n",
        "\"O número é positivo\" para números maiores que zero.\n",
        "\"O número é negativo\" para números menores que zero.\n",
        "\"O número é zero\" se o número for igual a zero.'''\n",
        "\n",
        "numero = int(input('Digite um número.'))\n",
        "\n",
        "if numero < 0:\n",
        "  print(f'O Número {numero} é negativo.')\n",
        "elif numero == 0:\n",
        "  print(f'O Número {numero} é zero.')\n",
        "\n",
        "else:\n",
        "  if numero % 2 == 0:\n",
        "    print(f'O número {numero} é par.')\n",
        "  else:\n",
        "    print(f'O número {numero} é impar.')"
      ]
    }
  ]
}