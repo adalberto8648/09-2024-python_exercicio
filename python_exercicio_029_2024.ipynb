{
  "nbformat": 4,
  "nbformat_minor": 0,
  "metadata": {
    "colab": {
      "provenance": [],
      "authorship_tag": "ABX9TyM+OTT5L96GAMGf1RMK8jmz",
      "include_colab_link": true
    },
    "kernelspec": {
      "name": "python3",
      "display_name": "Python 3"
    },
    "language_info": {
      "name": "python"
    }
  },
  "cells": [
    {
      "cell_type": "markdown",
      "metadata": {
        "id": "view-in-github",
        "colab_type": "text"
      },
      "source": [
        "<a href=\"https://colab.research.google.com/github/adalberto8648/exerciciopython2024/blob/main/python_exercicio_029_2024.ipynb\" target=\"_parent\"><img src=\"https://colab.research.google.com/assets/colab-badge.svg\" alt=\"Open In Colab\"/></a>"
      ]
    },
    {
      "cell_type": "code",
      "execution_count": null,
      "metadata": {
        "id": "HuINmj-6baKc"
      },
      "outputs": [],
      "source": [
        "'''Exercício 16: / 29: 09/2024\n",
        "\n",
        "Solicite ao usuário que digite 5 números inteiros e armazene-os em uma lista.\n",
        "Verifique se algum número é par e exiba a mensagem: \"Número par encontrado\" se houver pelo menos um número par.\n",
        "Pergunte ao usuário se ele deseja multiplicar os números da lista por um valor escolhido.\n",
        "Caso a resposta seja \"sim\", solicite o valor de multiplicação e aplique-o a cada número da lista.\n",
        "Exiba a nova lista após a multiplicação com os números formatados com duas casas decimais.\n",
        "Calcule e exiba a soma de todos os números na lista (multiplicados ou não).\n",
        "Trate possíveis erros de digitação usando try e except, e mostre uma mensagem apropriada ao usuário.\n",
        "Alterar o código feito para incluir o loop while'''\n",
        "\n",
        "lista_vazia = []\n",
        "\n",
        "print(\"Você pode digitar até 5 números inteiros. Para encerrar, digite um número negativo.\")\n",
        "\n",
        "while True:\n",
        "  try:\n",
        "    for n in range(1, 6):\n",
        "      numeros = int(input(f'Digite o {n}º numero inteiro: '))\n",
        "      if numeros < 0:\n",
        "        print('Número negativo digitado. Encerrando a entrada de números.')\n",
        "        break\n",
        "      lista_vazia.append(numeros)\n",
        "    break\n",
        "  except ValueError:\n",
        "    print('Digite apenas números inteiros')\n",
        "\n",
        "pares = [numero for numero in lista_vazia if numero % 2 == 0]\n",
        "\n",
        "if pares:\n",
        "  print(f'Numero(s) par(es) encontrado(s): {pares}')\n",
        "\n",
        "while True:\n",
        "  pergunta = input('Deseja multiplicar os números da lista por um valor escolhido? (Sim) ou (Não): ').lower()\n",
        "  if pergunta in ['sim', 'não']:\n",
        "    break\n",
        "  else:\n",
        "    print('Escolha uma das opções: (Sim) ou (Não)')\n",
        "\n",
        "if pergunta == 'sim':\n",
        "  multiplicador = int(input('Digite o número a ser multiplicado: '))\n",
        "\n",
        "  nova_lista = [numero * multiplicador for numero in lista_vazia]\n",
        "  lista_formatada = [f'{numero:.2f}' for numero in nova_lista]\n",
        "  print(f'Sua nova lista após a multiplicação e formatação é: {lista_formatada}')\n",
        "\n",
        "  soma_multiplicado = sum(nova_lista)\n",
        "  print(f'A soma de sua lista após a multiplicação é: {soma_multiplicado:.2f}')\n",
        "\n",
        "else:\n",
        "  formatacao = [f'{numero:.2f}' for numero in lista_vazia]\n",
        "  print(f'Sua lista formatada é: {formatacao}')\n",
        "\n",
        "  soma_sem_multiplicacao = sum(lista_vazia)\n",
        "  print(f'A soma de sua lista sem a multiplicação é: {soma_sem_multiplicacao:.2f}')"
      ]
    }
  ]
}