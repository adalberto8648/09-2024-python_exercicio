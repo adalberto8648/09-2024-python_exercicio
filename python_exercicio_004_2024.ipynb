{
  "nbformat": 4,
  "nbformat_minor": 0,
  "metadata": {
    "colab": {
      "provenance": [],
      "authorship_tag": "ABX9TyMxdT8clGltNHrlefvHJwhy",
      "include_colab_link": true
    },
    "kernelspec": {
      "name": "python3",
      "display_name": "Python 3"
    },
    "language_info": {
      "name": "python"
    }
  },
  "cells": [
    {
      "cell_type": "markdown",
      "metadata": {
        "id": "view-in-github",
        "colab_type": "text"
      },
      "source": [
        "<a href=\"https://colab.research.google.com/github/adalberto8648/exerciciopython2024/blob/main/python_exercicio_004_2024.ipynb\" target=\"_parent\"><img src=\"https://colab.research.google.com/assets/colab-badge.svg\" alt=\"Open In Colab\"/></a>"
      ]
    },
    {
      "cell_type": "code",
      "execution_count": null,
      "metadata": {
        "id": "ncMKRtZIW7e7"
      },
      "outputs": [],
      "source": [
        "'''Exercício 4: 09/2024\n",
        "\n",
        "Peça ao usuário para inserir a idade de uma pessoa.\n",
        "Verifique a idade inserida e exiba a seguinte mensagem:\n",
        "Se a pessoa tiver menos de 12 anos, exiba \"Criança\".\n",
        "Se tiver entre 12 e 17 anos, exiba \"Adolescente\".\n",
        "Se tiver entre 18 e 64 anos, exiba \"Adulto\".\n",
        "Se tiver 65 anos ou mais, exiba \"Idoso\".\n",
        "\n",
        "Desafio Extra:\n",
        "Adicione uma condição para verificar se a idade inserida é negativa ou zero, e se for, exiba \"Idade inválida\".'''\n",
        "\n",
        "idade = int(input('Digite sua idade: '))\n",
        "\n",
        "if idade <= 0:\n",
        "  print(f'Idade {idade} é inválida')\n",
        "\n",
        "elif idade < 12:\n",
        "  print('Criança')\n",
        "elif 12 <= idade <= 17:\n",
        "  print ('Adolescente')\n",
        "elif 18 <= idade <= 64:\n",
        "  print( 'Adulto')\n",
        "else:\n",
        "  print('Idoso')"
      ]
    }
  ]
}