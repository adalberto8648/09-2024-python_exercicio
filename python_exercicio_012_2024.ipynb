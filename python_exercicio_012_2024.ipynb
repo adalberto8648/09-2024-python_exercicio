{
  "nbformat": 4,
  "nbformat_minor": 0,
  "metadata": {
    "colab": {
      "provenance": [],
      "authorship_tag": "ABX9TyNHcL27dWMd2kTlkqJw5YKb",
      "include_colab_link": true
    },
    "kernelspec": {
      "name": "python3",
      "display_name": "Python 3"
    },
    "language_info": {
      "name": "python"
    }
  },
  "cells": [
    {
      "cell_type": "markdown",
      "metadata": {
        "id": "view-in-github",
        "colab_type": "text"
      },
      "source": [
        "<a href=\"https://colab.research.google.com/github/adalberto8648/exerciciopython2024/blob/main/python_exercicio_012_2024.ipynb\" target=\"_parent\"><img src=\"https://colab.research.google.com/assets/colab-badge.svg\" alt=\"Open In Colab\"/></a>"
      ]
    },
    {
      "cell_type": "code",
      "execution_count": null,
      "metadata": {
        "id": "WcALEopNJ6CE"
      },
      "outputs": [],
      "source": [
        "'''Exercício 12: 09/2024\n",
        "\n",
        "Peça ao usuário para inserir um número inteiro.\n",
        "Verifique se o número é divisível por 3 e por 5 ao mesmo tempo.\n",
        "Se for, exiba a mensagem: \"O número é múltiplo de 3 e 5\".\n",
        "Caso contrário, exiba: \"O número não é múltiplo de 3 e 5\".\n",
        "Tratamento de erro: Caso o usuário insira algo que não seja um número inteiro,\n",
        "exiba uma mensagem apropriada.\n",
        "\n",
        "Desafio extra:\n",
        "Adapte o código para também informar se o número é múltiplo apenas de 3 ou\n",
        "apenas de 5, se for o caso.'''\n",
        "\n",
        "try:\n",
        "  numero = int(input('Insira um número inteiro: '))\n",
        "\n",
        "  if (numero % 3 == 0 and numero % 5 == 0):\n",
        "    print(f'O número {numero} é múltiplo de 3 e 5')\n",
        "  elif numero % 3 == 0:\n",
        "    print(f'O número {numero} é múltiplo apenas de 3')\n",
        "  elif numero % 5 == 0:\n",
        "    print(f'O número {numero} é multiplo apenas de 5')\n",
        "  else:\n",
        "    print(f'O número {numero} não é múltiplo de 3 e nem de 5')\n",
        "\n",
        "except ValueError:\n",
        "  print('Digite um número inteiro válido')"
      ]
    }
  ]
}